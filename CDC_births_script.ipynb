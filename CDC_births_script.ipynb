{
 "cells": [
  {
   "cell_type": "code",
   "execution_count": 4,
   "metadata": {
    "collapsed": false
   },
   "outputs": [
    {
     "data": {
      "text/plain": [
       "['year,month,date_of_month,day_of_week,births',\n",
       " '1994,1,1,6,8096',\n",
       " '1994,1,2,7,7772',\n",
       " '1994,1,3,1,10142',\n",
       " '1994,1,4,2,11248',\n",
       " '1994,1,5,3,11053',\n",
       " '1994,1,6,4,11406',\n",
       " '1994,1,7,5,11251',\n",
       " '1994,1,8,6,8653',\n",
       " '1994,1,9,7,7910']"
      ]
     },
     "execution_count": 4,
     "metadata": {},
     "output_type": "execute_result"
    }
   ],
   "source": [
    "births = open(\"US_births_1994-2003_CDC_NCHS.csv\").read()\n",
    "births= births.split(\"\\n\")\n",
    "births[:10]"
   ]
  },
  {
   "cell_type": "code",
   "execution_count": 40,
   "metadata": {
    "collapsed": false
   },
   "outputs": [],
   "source": [
    "def read_csv(filename):\n",
    "    file= open(filename).read()\n",
    "    file=file.split(\"\\n\")\n",
    "    string_list=file[1:]  #list of strings\n",
    "    \n",
    "    final_list=[] \n",
    "    \n",
    "    for each in string_list:\n",
    "        int_fields=[]\n",
    "        string_fields = each.split(\",\")\n",
    "        for ind in string_fields:\n",
    "            ind=int(ind)\n",
    "            int_fields.append(ind)  #separating & making into integers \n",
    "            \n",
    "        final_list.append(int_fields)\n",
    "    return(final_list)\n",
    "    \n",
    "cdc_list = read_csv(\"US_births_1994-2003_CDC_NCHS.csv\") #list of lists\n",
    "\n"
   ]
  },
  {
   "cell_type": "code",
   "execution_count": 42,
   "metadata": {
    "collapsed": false
   },
   "outputs": [
    {
     "name": "stdout",
     "output_type": "stream",
     "text": [
      "{1: 3232517, 2: 3018140, 3: 3322069, 4: 3185314, 5: 3350907, 6: 3296530, 7: 3498783, 8: 3525858, 9: 3439698, 10: 3378814, 11: 3171647, 12: 3301860}\n"
     ]
    }
   ],
   "source": [
    "#calculating number of births per month\n",
    "\n",
    "def month_births(lists_lists):\n",
    "    births_per_month = {}\n",
    "    \n",
    "    for each in lists_lists:\n",
    "        month=each[1]\n",
    "        \n",
    "        if month in births_per_month:\n",
    "            births_per_month[month] = births_per_month[month] + each[4]\n",
    "        else:\n",
    "            births_per_month[month] = each[4]\n",
    "            \n",
    "    return(births_per_month)\n",
    "    \n",
    "cdc_month_births = month_births(cdc_list)\n",
    "print (cdc_month_births)"
   ]
  },
  {
   "cell_type": "code",
   "execution_count": 43,
   "metadata": {
    "collapsed": false
   },
   "outputs": [
    {
     "name": "stdout",
     "output_type": "stream",
     "text": [
      "{1: 5789166, 2: 6446196, 3: 6322855, 4: 6288429, 5: 6233657, 6: 4562111, 7: 4079723}\n"
     ]
    }
   ],
   "source": [
    "#calculating number of births each day of the week\n",
    "\n",
    "def dow_births(lists):\n",
    "    births_per_dow= {}\n",
    "    \n",
    "    for each in lists:\n",
    "        day= each[3]\n",
    "        \n",
    "        if day in births_per_dow:\n",
    "            births_per_dow[day]= births_per_dow[day] + each[4]\n",
    "        else:\n",
    "            births_per_dow[day]= each[4]\n",
    "            \n",
    "    return(births_per_dow)\n",
    "           \n",
    "cdc_day_births = dow_births(cdc_list)\n",
    "print (cdc_day_births)"
   ]
  },
  {
   "cell_type": "code",
   "execution_count": 46,
   "metadata": {
    "collapsed": false
   },
   "outputs": [],
   "source": [
    "#general birth calculations based on column index value\n",
    "\n",
    "def calc_counts(data,column):\n",
    "    temp_dict={}\n",
    "\n",
    "    for each in data:\n",
    "        col_val=each[column]\n",
    "    \n",
    "        if col_val in temp_dict:\n",
    "            temp_dict[col_val]= temp_dict[col_val] + each[4]\n",
    "        else:\n",
    "            temp_dict[col_val]= each[4]\n",
    "            \n",
    "    return(temp_dict)\n",
    "\n",
    "\n",
    "cdc_dow_births = calc_counts(cdc_list, 3)\n",
    "cdc_year_births = calc_counts(cdc_list, 0)\n",
    "cdc_month_births = calc_counts(cdc_list, 1)\n",
    "cdc_dom_births= calc_counts(cdc_list, 2)"
   ]
  }
 ],
 "metadata": {
  "anaconda-cloud": {},
  "kernelspec": {
   "display_name": "Python 3",
   "language": "python",
   "name": "python3"
  },
  "language_info": {
   "codemirror_mode": {
    "name": "ipython",
    "version": 3
   },
   "file_extension": ".py",
   "mimetype": "text/x-python",
   "name": "python",
   "nbconvert_exporter": "python",
   "pygments_lexer": "ipython3",
   "version": "3.4.3"
  }
 },
 "nbformat": 4,
 "nbformat_minor": 1
}
